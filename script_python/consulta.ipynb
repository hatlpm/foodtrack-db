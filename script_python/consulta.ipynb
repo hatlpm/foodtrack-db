{
 "cells": [
  {
   "cell_type": "markdown",
   "id": "c0ca4c4a",
   "metadata": {},
   "source": [
    "# Conexion con la base de datos"
   ]
  },
  {
   "cell_type": "code",
   "execution_count": 2,
   "id": "9d005427",
   "metadata": {},
   "outputs": [
    {
     "name": "stdout",
     "output_type": "stream",
     "text": [
      "✅ Conexión establecida\n"
     ]
    }
   ],
   "source": [
    "import pyodbc\n",
    "import pandas as pd\n",
    "\n",
    "# ============================================\n",
    "# CONFIGURACIÓN\n",
    "# ============================================\n",
    "servidor = \"localhost\"     # tu servidor\n",
    "base_datos = \"FoodTrackBD\" # tu base de datos\n",
    "\n",
    "# ============================================\n",
    "# CONECTAR A SQL SERVER\n",
    "# ============================================\n",
    "try:\n",
    "    conexion = pyodbc.connect(f\"\"\"\n",
    "        DRIVER={{ODBC Driver 17 for SQL Server}};\n",
    "        SERVER={servidor};\n",
    "        DATABASE={base_datos};\n",
    "        Trusted_Connection=yes;\n",
    "    \"\"\")\n",
    "    print(\"✅ Conexión establecida\")\n",
    "except Exception as e:\n",
    "    print(f\"❌ Error de conexión: {e}\")\n",
    "    exit()\n",
    "\n",
    "cursor = conexion.cursor()\n",
    "\n"
   ]
  },
  {
   "cell_type": "markdown",
   "id": "053caba1",
   "metadata": {},
   "source": [
    "# Consulta"
   ]
  },
  {
   "cell_type": "markdown",
   "id": "a13fa4c1",
   "metadata": {},
   "source": [
    "## Consulta para ver todos los registros de `order_items`"
   ]
  },
  {
   "cell_type": "code",
   "execution_count": 4,
   "id": "81321c50",
   "metadata": {},
   "outputs": [
    {
     "name": "stdout",
     "output_type": "stream",
     "text": [
      "\n",
      "📋 Datos de order_items:\n",
      "(1, 1001, 101, 1, datetime.datetime(2025, 9, 25, 14, 16, 46, 217000), datetime.datetime(2025, 9, 25, 14, 16, 46, 217000))\n",
      "(2, 1002, 103, 1, datetime.datetime(2025, 9, 25, 14, 16, 46, 227000), datetime.datetime(2025, 9, 25, 14, 16, 46, 227000))\n",
      "(3, 1002, 104, 1, datetime.datetime(2025, 9, 25, 14, 16, 46, 230000), datetime.datetime(2025, 9, 25, 14, 16, 46, 230000))\n"
     ]
    }
   ],
   "source": [
    "# ============================================\n",
    "# 1. CONSULTA: ver todos los registros de order_items\n",
    "# ============================================\n",
    "print(\"\\n📋 Datos de order_items:\")\n",
    "consulta1 = \"SELECT * FROM order_items;\"  # muestra solo 10 primeros\n",
    "\n",
    "cursor.execute(consulta1)\n",
    "\n",
    "# Obtener resultados y mostrar\n",
    "for fila in cursor.fetchall():\n",
    "    print(fila)  # cada fila es una tupla con las columnas"
   ]
  },
  {
   "cell_type": "markdown",
   "id": "d076a694",
   "metadata": {},
   "source": [
    "## Consulta para ver los productos mas pedidos"
   ]
  },
  {
   "cell_type": "code",
   "execution_count": null,
   "id": "6e4817cd",
   "metadata": {},
   "outputs": [],
   "source": [
    "# ============================================\n",
    "# 2. CONSULTA: productos más pedidos\n",
    "# ============================================\n",
    "print(\"\\n🥇 Productos más pedidos:\")\n",
    "\n",
    "consulta2 = \"\"\"\n",
    "SELECT \n",
    "    p.name AS producto,\n",
    "    SUM(oi.quantity) AS total_vendidos\n",
    "FROM order_items oi\n",
    "JOIN products p ON oi.product_id = p.product_id\n",
    "GROUP BY p.name\n",
    "ORDER BY total_vendidos DESC;\n",
    "\"\"\"\n",
    "\n",
    "# Usamos pandas para traer los resultados como tabla\n",
    "df = pd.read_sql(consulta2, conexion)\n",
    "print(df)\n",
    "\n",
    "# ============================================\n",
    "# CERRAR CONEXIÓN\n",
    "# ============================================\n",
    "conexion.close()\n",
    "print(\"\\n🔌 Conexión cerrada\")"
   ]
  }
 ],
 "metadata": {
  "kernelspec": {
   "display_name": "Python 3",
   "language": "python",
   "name": "python3"
  },
  "language_info": {
   "codemirror_mode": {
    "name": "ipython",
    "version": 3
   },
   "file_extension": ".py",
   "mimetype": "text/x-python",
   "name": "python",
   "nbconvert_exporter": "python",
   "pygments_lexer": "ipython3",
   "version": "3.13.2"
  }
 },
 "nbformat": 4,
 "nbformat_minor": 5
}
